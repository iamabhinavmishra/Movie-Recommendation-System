{
 "cells": [
  {
   "cell_type": "markdown",
   "metadata": {},
   "source": [
    "Importing Dependencies\n"
   ]
  },
  {
   "cell_type": "code",
   "execution_count": null,
   "metadata": {},
   "outputs": [],
   "source": [
    "import numpy as np\n",
    "import pandas as pd\n",
    "import difflib\n",
    "from sklearn.feature_extraction.text import TfidfVectorizer\n",
    "from sklearn.metrics.pairwise import cosine_similarity\n"
   ]
  },
  {
   "cell_type": "markdown",
   "metadata": {},
   "source": [
    "Data Collection and Pre-Processing"
   ]
  },
  {
   "cell_type": "code",
   "execution_count": null,
   "metadata": {},
   "outputs": [],
   "source": [
    "#loading data\n",
    "movies_data = pd.read_csv('movies.csv')\n",
    "#printing 5 rows of data movies data\n",
    "movies_data.head()"
   ]
  },
  {
   "cell_type": "code",
   "execution_count": null,
   "metadata": {},
   "outputs": [],
   "source": [
    "#no of rows and cols\n",
    "movies_data.shape"
   ]
  },
  {
   "cell_type": "code",
   "execution_count": null,
   "metadata": {},
   "outputs": [],
   "source": [
    "#selecting relevant features for recommendation\n",
    "selected_features = ['genres','keywords','tagline','cast','director']\n",
    "print(selected_features)"
   ]
  },
  {
   "cell_type": "code",
   "execution_count": null,
   "metadata": {},
   "outputs": [],
   "source": [
    "#replacing the missing values with NULL\n",
    "\n",
    "for feature in selected_features:\n",
    "    movies_data[feature] = movies_data[feature].fillna('')"
   ]
  },
  {
   "cell_type": "code",
   "execution_count": null,
   "metadata": {},
   "outputs": [],
   "source": [
    "#combing all the 5 feature\n",
    "\n",
    "combined_feature = movies_data['genres']+' '+movies_data['keywords']+' '+movies_data['tagline']+' '+movies_data['cast']+' '+movies_data['director']\n",
    "\n"
   ]
  },
  {
   "cell_type": "code",
   "execution_count": null,
   "metadata": {},
   "outputs": [],
   "source": [
    "print(combined_feature)"
   ]
  },
  {
   "cell_type": "code",
   "execution_count": null,
   "metadata": {},
   "outputs": [],
   "source": [
    "#converting text data to feature vectors\n",
    "vectorizer = TfidfVectorizer()\n",
    "feature_vector = vectorizer.fit_transform(combined_feature)"
   ]
  },
  {
   "cell_type": "code",
   "execution_count": null,
   "metadata": {},
   "outputs": [],
   "source": [
    "print(feature_vector)"
   ]
  },
  {
   "cell_type": "markdown",
   "metadata": {},
   "source": [
    "Cosine Similarity"
   ]
  },
  {
   "cell_type": "code",
   "execution_count": null,
   "metadata": {},
   "outputs": [],
   "source": [
    "# getting similarity score using cosine similarity\n",
    "similarity = cosine_similarity(feature_vector)\n",
    "print(similarity)\n",
    "print(similarity.shape)"
   ]
  },
  {
   "cell_type": "code",
   "execution_count": null,
   "metadata": {},
   "outputs": [],
   "source": [
    "#getting user input\n",
    "\n",
    "movie_name = input(\"Enter the movie name: \")\n"
   ]
  },
  {
   "cell_type": "code",
   "execution_count": null,
   "metadata": {},
   "outputs": [],
   "source": [
    "#creating a list with all the movie names given in data set\n",
    "list_of_all_title = movies_data['title'].tolist()\n",
    "print(list_of_all_title)"
   ]
  },
  {
   "cell_type": "code",
   "execution_count": null,
   "metadata": {},
   "outputs": [],
   "source": [
    "#finding close match for the movie name by the user\n",
    "find_close_match = difflib.get_close_matches(movie_name,list_of_all_title)\n",
    "print(find_close_match)"
   ]
  },
  {
   "cell_type": "code",
   "execution_count": null,
   "metadata": {},
   "outputs": [],
   "source": [
    "close_match = find_close_match[0]\n",
    "print(close_match)"
   ]
  },
  {
   "cell_type": "code",
   "execution_count": null,
   "metadata": {},
   "outputs": [],
   "source": [
    "#find movie index\n",
    "index_of_movie = movies_data[movies_data.title == close_match]['index'].values[0]\n",
    "print(index_of_movie)"
   ]
  },
  {
   "cell_type": "code",
   "execution_count": null,
   "metadata": {},
   "outputs": [],
   "source": [
    "#getting list of similar movies\n",
    "\n",
    "similarity_score =list(enumerate(similarity[index_of_movie]))\n",
    "print(similarity_score)"
   ]
  },
  {
   "cell_type": "code",
   "execution_count": null,
   "metadata": {},
   "outputs": [],
   "source": [
    "len(similarity_score)"
   ]
  },
  {
   "cell_type": "code",
   "execution_count": null,
   "metadata": {},
   "outputs": [],
   "source": [
    "#sorting the moves based on similarity score\n",
    "sorted_similar_movies = sorted(similarity_score, key = lambda x:x[1], reverse= True)\n",
    "print(sorted_similar_movies)"
   ]
  },
  {
   "cell_type": "code",
   "execution_count": null,
   "metadata": {},
   "outputs": [],
   "source": [
    "#print the name of similar movies based on index\n",
    "print('Movies suggested for you: \\n')\n",
    "i = 1\n",
    "for movie in sorted_similar_movies:\n",
    "    index = movie[0]\n",
    "    title_from_index = movies_data[movies_data.index==index]['title'].values[0]\n",
    "    if(i<30):\n",
    "        print(i, '-', title_from_index)\n",
    "        i+=1"
   ]
  },
  {
   "cell_type": "markdown",
   "metadata": {},
   "source": [
    "Movie Recommendation System"
   ]
  },
  {
   "cell_type": "code",
   "execution_count": 32,
   "metadata": {},
   "outputs": [
    {
     "name": "stdout",
     "output_type": "stream",
     "text": [
      "Movies suggested for you: \n",
      "\n",
      "1 - Inception\n",
      "2 - Treasure Planet\n",
      "3 - The Dark Knight Rises\n",
      "4 - The Last Samurai\n",
      "5 - Don Jon\n",
      "6 - Hesher\n",
      "7 - In Dreams\n",
      "8 - Looper\n",
      "9 - Highlander: Endgame\n",
      "10 - The Revenant\n",
      "11 - The Helix... Loaded\n",
      "12 - Cold Mountain\n",
      "13 - The Count of Monte Cristo\n",
      "14 - G.I. Joe: The Rise of Cobra\n",
      "15 - Catch Me If You Can\n",
      "16 - The Man in the Iron Mask\n",
      "17 - Solaris\n",
      "18 - The Walk\n",
      "19 - Top Gun\n",
      "20 - Sin City: A Dame to Kill For\n",
      "21 - Blood Diamond\n",
      "22 - Eternal Sunshine of the Spotless Mind\n",
      "23 - The Juror\n",
      "24 - Letters from Iwo Jima\n",
      "25 - RockNRolla\n",
      "26 - The Silence of the Lambs\n",
      "27 - Layer Cake\n",
      "28 - Premium Rush\n",
      "29 - Bronson\n"
     ]
    }
   ],
   "source": [
    "movie_name = input(\"Enter the movie name: \")\n",
    "\n",
    "list_of_all_title = movies_data['title'].tolist()\n",
    "find_close_match = difflib.get_close_matches(movie_name,list_of_all_title)\n",
    "close_match = find_close_match[0]\n",
    "\n",
    "index_of_movie = movies_data[movies_data.title == close_match]['index'].values[0]\n",
    "similarity_score =list(enumerate(similarity[index_of_movie]))\n",
    "sorted_similar_movies = sorted(similarity_score, key = lambda x:x[1], reverse= True)\n",
    "\n",
    "\n",
    "print('Movies suggested for you: \\n')\n",
    "i = 1\n",
    "for movie in sorted_similar_movies:\n",
    "    index = movie[0]\n",
    "    title_from_index = movies_data[movies_data.index==index]['title'].values[0]\n",
    "    if(i<30):\n",
    "        print(i, '-', title_from_index)\n",
    "        i+=1"
   ]
  }
 ],
 "metadata": {
  "interpreter": {
   "hash": "1189424018d79a37f5d6f9f628c88372b955f66e13807b9eac3ce47943a32852"
  },
  "kernelspec": {
   "display_name": "Python 3.10.2 64-bit",
   "language": "python",
   "name": "python3"
  },
  "language_info": {
   "codemirror_mode": {
    "name": "ipython",
    "version": 3
   },
   "file_extension": ".py",
   "mimetype": "text/x-python",
   "name": "python",
   "nbconvert_exporter": "python",
   "pygments_lexer": "ipython3",
   "version": "3.10.2"
  },
  "orig_nbformat": 4
 },
 "nbformat": 4,
 "nbformat_minor": 2
}
