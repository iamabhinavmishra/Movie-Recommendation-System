{
 "cells": [
  {
   "cell_type": "markdown",
   "metadata": {},
   "source": [
    "Importing Dependencies\n"
   ]
  },
  {
   "cell_type": "code",
   "execution_count": null,
   "metadata": {},
   "outputs": [],
   "source": [
    "import pandas as pd\n",
    "import difflib\n",
    "from sklearn.feature_extraction.text import TfidfVectorizer\n",
    "from sklearn.metrics.pairwise import cosine_similarity"
   ]
  },
  {
   "cell_type": "markdown",
   "metadata": {},
   "source": [
    "Data Collection and Pre-Processing"
   ]
  },
  {
   "cell_type": "code",
   "execution_count": null,
   "metadata": {},
   "outputs": [],
   "source": [
    "#loading data\n",
    "movies_data = pd.read_csv('movies.csv')\n",
    "\n",
    "#selecting relevant features for recommendation\n",
    "selected_features = ['genres','keywords','tagline','cast','director']\n",
    "\n",
    "#replacing the missing values with NULL\n",
    "\n",
    "for feature in selected_features:\n",
    "    movies_data[feature] = movies_data[feature].fillna('')\n",
    "\n",
    "#combing all the 5 feature\n",
    "\n",
    "combined_feature = movies_data['genres']+' '+movies_data['keywords']+' '+movies_data['tagline']+' '+movies_data['cast']+' '+movies_data['director']\n",
    "\n",
    "#converting text data to feature vectors\n",
    "vectorizer = TfidfVectorizer()\n",
    "feature_vector = vectorizer.fit_transform(combined_feature)\n",
    "\n"
   ]
  },
  {
   "cell_type": "markdown",
   "metadata": {},
   "source": [
    "Cosine Similarity"
   ]
  },
  {
   "cell_type": "code",
   "execution_count": null,
   "metadata": {},
   "outputs": [],
   "source": [
    "# getting similarity score using cosine similarity\n",
    "similarity = cosine_similarity(feature_vector)"
   ]
  },
  {
   "cell_type": "markdown",
   "metadata": {},
   "source": [
    "Taking user Input and Printing Result"
   ]
  },
  {
   "cell_type": "code",
   "execution_count": null,
   "metadata": {},
   "outputs": [],
   "source": [
    "#getting user input\n",
    "\n",
    "movie_name = input(\"Enter the movie name: \")\n",
    "\n",
    "#creating a list with all the movie names given in data set\n",
    "list_of_all_title = movies_data['title'].tolist()\n",
    "\n",
    "#finding close match for the movie name by the user\n",
    "find_close_match = difflib.get_close_matches(movie_name,list_of_all_title)\n",
    "close_match = find_close_match[0]\n",
    "\n",
    "#find movie index\n",
    "index_of_movie = movies_data[movies_data.title == close_match]['index'].values[0]\n",
    "\n",
    "#getting list of similar movies\n",
    "\n",
    "similarity_score =list(enumerate(similarity[index_of_movie]))\n",
    "\n",
    "#sorting the moves based on similarity score\n",
    "sorted_similar_movies = sorted(similarity_score, key = lambda x:x[1], reverse= True)\n",
    "\n",
    "#print the name of similar movies based on index\n",
    "print('Movies suggested for you: \\n')\n",
    "i = 1\n",
    "for movie in sorted_similar_movies:\n",
    "    index = movie[0]\n",
    "    title_from_index = movies_data[movies_data.index==index]['title'].values[0]\n",
    "    if(i<30):\n",
    "        print(i, '-', title_from_index)\n",
    "        i+=1\n",
    "\n"
   ]
  }
 ],
 "metadata": {
  "interpreter": {
   "hash": "1189424018d79a37f5d6f9f628c88372b955f66e13807b9eac3ce47943a32852"
  },
  "kernelspec": {
   "display_name": "Python 3.10.2 64-bit",
   "language": "python",
   "name": "python3"
  },
  "language_info": {
   "codemirror_mode": {
    "name": "ipython",
    "version": 3
   },
   "file_extension": ".py",
   "mimetype": "text/x-python",
   "name": "python",
   "nbconvert_exporter": "python",
   "pygments_lexer": "ipython3",
   "version": "3.10.2"
  },
  "orig_nbformat": 4
 },
 "nbformat": 4,
 "nbformat_minor": 2
}
